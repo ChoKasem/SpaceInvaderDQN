{
  "nbformat": 4,
  "nbformat_minor": 0,
  "metadata": {
    "colab": {
      "name": "SpaceInvader_DQN.ipynb",
      "provenance": []
    },
    "kernelspec": {
      "name": "python3",
      "display_name": "Python 3"
    },
    "language_info": {
      "name": "python"
    }
  },
  "cells": [
    {
      "cell_type": "code",
      "metadata": {
        "id": "h1QI1kUezyvu"
      },
      "source": [
        "%%capture\n",
        "!pip install gym pyvirtualdisplay -qq\n",
        "!pip install folium==0.2.1\n",
        "!apt-get install -y xvfb python-opengl ffmpeg -qq\n",
        "\n",
        "!apt-get update -qq\n",
        "!apt-get install cmake -qq\n",
        "!pip install --upgrade setuptools -qq\n",
        "!pip install ez_setup -qq\n",
        "\n",
        "import gym\n",
        "import collections\n",
        "import random\n",
        "\n",
        "import torch\n",
        "import torch.nn as nn\n",
        "import torch.nn.functional as F\n",
        "import torch.optim as optim\n",
        "import cv2 as cv\n",
        "import numpy as np"
      ],
      "execution_count": 1,
      "outputs": []
    },
    {
      "cell_type": "code",
      "metadata": {
        "id": "xVICd8otRk9I"
      },
      "source": [
        "%%capture\n",
        "import urllib.request\n",
        "urllib.request.urlretrieve('http://www.atarimania.com/roms/Roms.rar','Roms.rar')\n",
        "!pip install unrar\n",
        "!unrar x Roms.rar\n",
        "!mkdir rars\n",
        "!mv HC\\ ROMS.zip   rars\n",
        "!mv ROMS.zip  rars\n",
        "!python -m atari_py.import_roms rars"
      ],
      "execution_count": 2,
      "outputs": []
    },
    {
      "cell_type": "code",
      "metadata": {
        "id": "T7GgDWE8UdMq"
      },
      "source": [
        "# image preprocessing\n",
        "def process_img(s):\n",
        "  gray = (0.2989 * s[:,:,0] + 0.5870 * s[:,:,1] + 0.1140 * s[:,:,2])\n",
        "  gray = gray[25:195,:]\n",
        "  out_img = cv.resize(gray, dsize =(84,84), interpolation=cv.INTER_CUBIC)\n",
        "  out_img = np.reshape(out_img, (1,84,84))\n",
        "  return out_img"
      ],
      "execution_count": 19,
      "outputs": []
    },
    {
      "cell_type": "code",
      "metadata": {
        "id": "TtOdtaKgR--5"
      },
      "source": [
        "class Qnet(nn.Module):\n",
        "    def __init__(self, n_action):\n",
        "        super(Qnet, self).__init__()\n",
        "        hid_dim1 = 32\n",
        "        hid_dim2 = 64\n",
        "        hid_dim3 = 30\n",
        "        self.conv_out_shape = 0\n",
        "        self.conv_layer = nn.Sequential(\n",
        "          nn.Conv2d(1, hid_dim1, kernel_size=3,stride=4),\n",
        "          nn.BatchNorm2d(hid_dim1),\n",
        "          nn.ReLU(),\n",
        "          nn.Conv2d(hid_dim1, hid_dim2, kernel_size=4, stride=2),\n",
        "          nn.BatchNorm2d(hid_dim2),\n",
        "          nn.ReLU(),\n",
        "          nn.Flatten(),\n",
        "        )\n",
        "\n",
        "        # print(\"conv out shape is: \", self.conv_out_shape)\n",
        "        self.linear_layer = nn.Sequential(\n",
        "          nn.Linear(5184, hid_dim3),\n",
        "          nn.ReLU(),\n",
        "          nn.Linear(hid_dim3, n_action),\n",
        "          nn.Softmax(dim=1)\n",
        "        )\n",
        "\n",
        "    def forward(self, x):\n",
        "        # x = process_img(x)\n",
        "        # x = torch.from_numpy(x)\n",
        "        out = x.float()\n",
        "        if len(x.shape) == 3:\n",
        "          out = np.reshape(out, (1,1,84,84))\n",
        "        # print(out.shape)\n",
        "        out = self.conv_layer(out)\n",
        "        out = self.linear_layer(out)\n",
        "        return out\n",
        "      \n",
        "    def sample_action(self, obs, epsilon):\n",
        "        out = self.forward(obs)\n",
        "        coin = random.random()\n",
        "        if coin < epsilon:\n",
        "            return random.randint(0,1)\n",
        "        else : \n",
        "            return out.argmax().item()"
      ],
      "execution_count": 42,
      "outputs": []
    },
    {
      "cell_type": "code",
      "metadata": {
        "id": "ztU2f2xczrYv"
      },
      "source": [
        "#Hyperparameters\n",
        "learning_rate = 0.0005\n",
        "gamma         = 0.98\n",
        "buffer_limit  = 50000\n",
        "batch_size    = 10\n",
        "max_step = 30000\n",
        "\n",
        "class ReplayBuffer():\n",
        "    def __init__(self):\n",
        "        self.buffer = collections.deque(maxlen=buffer_limit)\n",
        "    \n",
        "    def put(self, transition):\n",
        "        self.buffer.append(transition)\n",
        "    \n",
        "    def sample(self, n):\n",
        "        mini_batch = random.sample(self.buffer, n)\n",
        "        s_lst, a_lst, r_lst, s_prime_lst, done_mask_lst = [], [], [], [], []\n",
        "        \n",
        "        for transition in mini_batch:\n",
        "            s, a, r, s_prime, done_mask = transition\n",
        "            s_lst.append(s)\n",
        "            a_lst.append([a])\n",
        "            r_lst.append([r])\n",
        "            s_prime_lst.append(s_prime)\n",
        "            done_mask_lst.append([done_mask])\n",
        "\n",
        "        return torch.tensor(s_lst, dtype=torch.float), torch.tensor(a_lst), \\\n",
        "               torch.tensor(r_lst), torch.tensor(s_prime_lst, dtype=torch.float), \\\n",
        "               torch.tensor(done_mask_lst)\n",
        "    \n",
        "    def size(self):\n",
        "        return len(self.buffer)\n",
        "            \n",
        "def train(q, q_target, memory, optimizer):\n",
        "    for i in range(10):\n",
        "        s,a,r,s_prime,done_mask = memory.sample(batch_size)\n",
        "        # print(\"s:\")\n",
        "        # print(s.shape)\n",
        "        # print(s)\n",
        "        q_out = q(s)\n",
        "        # print(\"q_out:\")\n",
        "        # print(q_out)\n",
        "        q_a = q_out.gather(1,a)\n",
        "        # print(\"q_a\")\n",
        "        # print(q_a)\n",
        "        max_q_prime = q_target(s_prime).max(1)[0].unsqueeze(1)\n",
        "        # print(\"max_q_prime\")\n",
        "        # print(max_q_prime)\n",
        "        target = r + gamma * max_q_prime * done_mask\n",
        "        loss = F.smooth_l1_loss(q_a, target)\n",
        "        \n",
        "        optimizer.zero_grad()\n",
        "        loss.backward()\n",
        "        optimizer.step()\n",
        "\n",
        "def main():\n",
        "    env = gym.make(\"SpaceInvaders-v0\")\n",
        "    n_action = env.action_space.n\n",
        "    q = Qnet(n_action)\n",
        "    q_target = Qnet(n_action)\n",
        "    q_target.load_state_dict(q.state_dict())\n",
        "    memory = ReplayBuffer()\n",
        "\n",
        "    print_interval = 20\n",
        "    score = 0.0  \n",
        "    optimizer = optim.Adam(q.parameters(), lr=learning_rate)\n",
        "\n",
        "    for n_epi in range(1000):\n",
        "        epsilon = max(0.01, 0.08 - 0.01*(n_epi/200)) #Linear annealing from 8% to 1%\n",
        "        s = env.reset()\n",
        "        s = process_img(s)\n",
        "        done = False\n",
        "        step = 0\n",
        "\n",
        "        while step < max_step:\n",
        "            step+=1\n",
        "            a = q.sample_action(torch.from_numpy(s).float(), epsilon)      \n",
        "            s_prime, r, done, info = env.step(a)\n",
        "            done_mask = 0.0 if done else 1.0\n",
        "            s_prime = process_img(s_prime)\n",
        "            memory.put((s,a,r/100.0,s_prime, done_mask))\n",
        "            s = s_prime\n",
        "\n",
        "            score += r\n",
        "            if done:\n",
        "                break\n",
        "            \n",
        "        if memory.size()>2000:\n",
        "            train(q, q_target, memory, optimizer)\n",
        "\n",
        "        if n_epi%print_interval==0 and n_epi!=0:\n",
        "            q_target.load_state_dict(q.state_dict())\n",
        "            print(\"n_episode :{}, score : {:.1f}, n_buffer : {}, eps : {:.1f}%\".format(\n",
        "                                                            n_epi, score/print_interval, memory.size(), epsilon*100))\n",
        "            score = 0.0\n",
        "    env.close()\n",
        "    return q"
      ],
      "execution_count": 49,
      "outputs": []
    },
    {
      "cell_type": "code",
      "metadata": {
        "id": "-kcHC_mL00uO"
      },
      "source": [
        "# train the model\n",
        "q = main()"
      ],
      "execution_count": null,
      "outputs": []
    },
    {
      "cell_type": "code",
      "metadata": {
        "colab": {
          "base_uri": "https://localhost:8080/"
        },
        "id": "hJfUx2S_VQcP",
        "outputId": "2a9717b1-69e3-4604-ba51-5c8c5ae49ee6"
      },
      "source": [
        "!apt-get update > /dev/null 2>&1\n",
        "!apt-get install cmake > /dev/null 2>&1\n",
        "!pip install --upgrade setuptools 2>&1\n",
        "!pip install ez_setup > /dev/null 2>&1\n",
        "!pip install gym[atari] > /dev/null 2>&1\n",
        "!pip install gym pyvirtualdisplay > /dev/null 2>&1\n",
        "!apt-get install -y xvfb python-opengl ffmpeg > /dev/null 2>&1"
      ],
      "execution_count": 63,
      "outputs": [
        {
          "output_type": "stream",
          "text": [
            "Requirement already satisfied: setuptools in /usr/local/lib/python3.7/dist-packages (57.4.0)\n"
          ],
          "name": "stdout"
        }
      ]
    },
    {
      "cell_type": "code",
      "metadata": {
        "id": "3RbDBPBRcjb7"
      },
      "source": [
        "import gym\n",
        "from gym.wrappers import Monitor\n",
        "import glob\n",
        "import io\n",
        "import base64\n",
        "from IPython.display import HTML\n",
        "from pyvirtualdisplay import Display\n",
        "from IPython import display as ipythondisplay\n",
        "\n",
        "display = Display(visible=0, size=(1400, 900))\n",
        "display.start()\n",
        "\n",
        "\"\"\"\n",
        "Utility functions to enable video recording of gym environment \n",
        "and displaying it.\n",
        "To enable video, just do \"env = wrap_env(env)\"\"\n",
        "\"\"\"\n",
        "\n",
        "def show_video():\n",
        "  mp4list = glob.glob('video/*.mp4')\n",
        "  if len(mp4list) > 0:\n",
        "    mp4 = mp4list[0]\n",
        "    video = io.open(mp4, 'r+b').read()\n",
        "    encoded = base64.b64encode(video)\n",
        "    ipythondisplay.display(HTML(data='''<video alt=\"test\" autoplay \n",
        "                loop controls style=\"height: 400px;\">\n",
        "                <source src=\"data:video/mp4;base64,{0}\" type=\"video/mp4\" />\n",
        "             </video>'''.format(encoded.decode('ascii'))))\n",
        "  else: \n",
        "    print(\"Could not find video\")\n",
        "    \n",
        "\n",
        "def wrap_env(env):\n",
        "  env = Monitor(env, './video', force=True)\n",
        "  return env"
      ],
      "execution_count": 64,
      "outputs": []
    },
    {
      "cell_type": "code",
      "metadata": {
        "id": "4-E_Gipbcsbr"
      },
      "source": [
        "# Play the model\n",
        "env = wrap_env(gym.make(\"SpaceInvaders-v0\"))\n",
        "\n",
        "observation = env.reset()\n",
        "\n",
        "for i in range(50):\n",
        "  env.reset()\n",
        "  while True:\n",
        "    \n",
        "      env.render()\n",
        "      \n",
        "      #your agent goes here\n",
        "      action = torch.argmax(q(torch.from_numpy(process_img(s))))\n",
        "      s, r, done, info = env.step(action)\n",
        "          \n",
        "      if done: \n",
        "        break;\n",
        "            \n",
        "env.close()\n",
        "show_video()"
      ],
      "execution_count": 66,
      "outputs": []
    }
  ]
}